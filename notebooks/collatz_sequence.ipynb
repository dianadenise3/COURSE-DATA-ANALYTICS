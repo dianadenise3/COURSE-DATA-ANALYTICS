{
 "cells": [
  {
   "cell_type": "markdown",
   "metadata": {},
   "source": [
    "# Collatz Sequence"
   ]
  },
  {
   "cell_type": "markdown",
   "metadata": {},
   "source": [
    "### Instructions\n",
    "+ Write a Python program that prompts the user for two positive integers, a and b (where a<b).\n",
    "+ For every number 𝑛 in the range a to b inclusive, calculate the length of its Collatz sequence until it reaches 1.\n",
    "+ After calculating the lengths for all numbers in the given range, find the number that has the longest Collatz Sequence and display it alongside its length."
   ]
  },
  {
   "cell_type": "code",
   "execution_count": 10,
   "metadata": {},
   "outputs": [
    {
     "data": {
      "text/plain": [
       "([5, 16, 8, 4, 2, 1], 6)"
      ]
     },
     "execution_count": 10,
     "metadata": {},
     "output_type": "execute_result"
    }
   ],
   "source": [
    "def collatz(i):\n",
    "    seq=[i]\n",
    "    while i >1:\n",
    "        if i%2==0:\n",
    "            i=i//2\n",
    "            seq.append(i)\n",
    "        else:\n",
    "            i=(3*i)+1\n",
    "            seq.append(i)\n",
    "    l=len(seq)\n",
    "    return seq,l\n",
    "\n",
    "collatz(5)\n"
   ]
  },
  {
   "cell_type": "code",
   "execution_count": 13,
   "metadata": {},
   "outputs": [
    {
     "name": "stdout",
     "output_type": "stream",
     "text": [
      "The number 9 has the longest Collatz sequence of length 20 in the range 1 to 10.\n"
     ]
    }
   ],
   "source": [
    "a=1\n",
    "b=10\n",
    "maxlength=0\n",
    "x_seq=[]\n",
    "\n",
    "for i in range(a,b+1):\n",
    "    seq,l=collatz(i)\n",
    "    if l>maxlength:\n",
    "        maxlength = l\n",
    "        x_seq=seq\n",
    "\n",
    "print(f'The number {x_seq[0]} has the longest Collatz sequence of length {maxlength} in the range {a} to {b}.')"
   ]
  }
 ],
 "metadata": {
  "kernelspec": {
   "display_name": "progradatos1",
   "language": "python",
   "name": "python3"
  },
  "language_info": {
   "codemirror_mode": {
    "name": "ipython",
    "version": 3
   },
   "file_extension": ".py",
   "mimetype": "text/x-python",
   "name": "python",
   "nbconvert_exporter": "python",
   "pygments_lexer": "ipython3",
   "version": "3.10.13"
  }
 },
 "nbformat": 4,
 "nbformat_minor": 2
}
