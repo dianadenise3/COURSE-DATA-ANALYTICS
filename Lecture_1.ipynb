{
  "nbformat": 4,
  "nbformat_minor": 0,
  "metadata": {
    "colab": {
      "provenance": [],
      "authorship_tag": "ABX9TyNfAHsPzQuLP0FwgeCg4C/G",
      "include_colab_link": true
    },
    "kernelspec": {
      "name": "python3",
      "display_name": "Python 3"
    },
    "language_info": {
      "name": "python"
    }
  },
  "cells": [
    {
      "cell_type": "markdown",
      "metadata": {
        "id": "view-in-github",
        "colab_type": "text"
      },
      "source": [
        "<a href=\"https://colab.research.google.com/github/dianadenise3/COURSE-DATA-ANALYTICS/blob/main/Lecture_1.ipynb\" target=\"_parent\"><img src=\"https://colab.research.google.com/assets/colab-badge.svg\" alt=\"Open In Colab\"/></a>"
      ]
    },
    {
      "cell_type": "code",
      "execution_count": 3,
      "metadata": {
        "colab": {
          "base_uri": "https://localhost:8080/"
        },
        "id": "W3d359E3FbA1",
        "outputId": "95944272-eef1-46bb-aeb3-6cea32d58c53"
      },
      "outputs": [
        {
          "output_type": "stream",
          "name": "stdout",
          "text": [
            "Hello world\n"
          ]
        }
      ],
      "source": [
        "print('Hello world')"
      ]
    },
    {
      "cell_type": "markdown",
      "source": [
        "# Título\n",
        "## Subtítulo\n",
        "### SubSubtítulo"
      ],
      "metadata": {
        "id": "YFyjY4oPGORM"
      }
    },
    {
      "cell_type": "code",
      "source": [],
      "metadata": {
        "id": "7mXrXByKGAgu"
      },
      "execution_count": null,
      "outputs": []
    }
  ]
}